{
 "cells": [
  {
   "cell_type": "markdown",
   "id": "understanding-memory",
   "metadata": {},
   "source": [
    "# Pre-processing scRNA-seq data from two Parkinson's disease studies"
   ]
  },
  {
   "cell_type": "markdown",
   "id": "5e1ff7c8",
   "metadata": {},
   "source": [
    "## Description"
   ]
  },
  {
   "cell_type": "markdown",
   "id": "prescribed-option",
   "metadata": {},
   "source": [
    "* This notebook covers functions to pre-process data from single nuclei RNA-seq (snRNA-seq) data from two studies [Agarwal_2020](https://pubmed.ncbi.nlm.nih.gov/32826893/) and [Kamath_2022](https://pubmed.ncbi.nlm.nih.gov/35513515/).     \n",
    "    * The Agarwal_2020 dataset was obtained from [GEO](https://www.ncbi.nlm.nih.gov/geo/query/acc.cgi?acc=GSE140231) in `mtx` format and associated sample metadata and no cell type annotations.\n",
    "    * The Kamath_2022 dataset was obtained from [CELLxGENE](https://cellxgene.cziscience.com/collections/b0f0b447-ac37-45b0-b1bf-5c0b7d871120) in `h5ad` format with sample metadata and cell type annotations\n",
    "    * A copy of these files can be downloaded from https://zenodo.org/uploads/15723900<br><br>\n",
    "\n",
    "* It runs the following steps:\n",
    "    * Load data from original sources (GEO and CELLxGENE)\n",
    "    * Standardize sample metadata\n",
    "    * Downsample ~103k cells from Kamath 2022 dataset. Keep all ~18k cells from Agarwal 2020.\n",
    "    * Saves `zarr` and `h5ad` files for script `02_integration.ipynb`.<br><br>\n",
    "\n",
    "\n",
    "* h5ad vs. zarr formats:\n",
    "    * For the downsampled Kamath 2022 subset (~103k cells × ~34k genes), it takes the following disk space and speed to read:\n",
    "        * `zarr`: size=921M, read time = 5.2s `adata.write_zarr(..., chunks=[adata.shape[0], 5])`\n",
    "        * `h5ad` compressed: size=929M , read time = 8.4s `adata.write(..., compression='gzip')`\n",
    "        * `h5ad` not compressed: size=3.1G, read time = 16.6s"
   ]
  },
  {
   "cell_type": "code",
   "execution_count": 1,
   "id": "d6c9eb54",
   "metadata": {},
   "outputs": [
    {
     "name": "stderr",
     "output_type": "stream",
     "text": [
      "/Users/jdime/venv_bioinfo/lib/python3.13/site-packages/anndata/utils.py:434: FutureWarning: Importing read_elem from `anndata.experimental` is deprecated. Import anndata.io.read_elem instead.\n",
      "  warnings.warn(msg, FutureWarning)\n"
     ]
    }
   ],
   "source": [
    "### External modules\n",
    "import warnings\n",
    "import os\n",
    "import scanpy as sc\n",
    "import pandas as pd\n",
    "import logging\n",
    "import sys\n",
    "from scipy.io import mmread\n",
    "import zarr ### tested with zarr==2.18.7 and dask==2025.4.0\n",
    "\n",
    "import io\n",
    "import requests\n",
    "\n",
    "### Internal modules\n",
    "sys.path.append(os.path.expanduser(\"~/sc_and_spatial_parkinson/src/python\"))\n",
    "from utils.reformat_to_adata import convert_mtx_to_adata\n",
    "from utils.add_metadata_to_adata import add_metadata_to_adata\n",
    "from utils.reformat_to_adata import convert_zarr_to_adata\n",
    "\n",
    "### Logs and warning settings\n",
    "warnings.filterwarnings(\"ignore\")\n",
    "# logging.basicConfig(level=logging.DEBUG, format=\"%(asctime)s %(name)s %(levelname)s:\\n%(message)s\")\n",
    "logging.basicConfig(level=logging.INFO, format=\"%(asctime)s %(name)s %(levelname)s:\\n%(message)s\")\n",
    "logger = logging.getLogger(__name__)"
   ]
  },
  {
   "cell_type": "markdown",
   "id": "b7619d52-3504-4114-ae80-837996e49db4",
   "metadata": {},
   "source": [
    "## Define inputs/outputs"
   ]
  },
  {
   "cell_type": "code",
   "execution_count": 2,
   "id": "da37af9a-3cee-4656-9fc7-c8732018eb7f",
   "metadata": {},
   "outputs": [],
   "source": [
    "### Sample metadata\n",
    "google_id_sample_metadata = \"1761mSSr1jY_SkJ9UvZ4Zyf1G39B9y0CGnzlItFEF9iY\"\n",
    "default_sample_metadata_cols = ['barcode', 'study_name', 'sample_name']\n",
    "extra_sample_metadata_cols   = ['sample_source','sample_organism','sample_tissue_region','donor_gender','donor_age_years','cause_of_death','main_cell_type','cell_type','Nurr_status']\n",
    "\n",
    "### base outdir for zarr files\n",
    "outdir = os.path.expanduser('~/sc_and_spatial_parkinson/data/')\n",
    "outdir_zarr = os.path.join(outdir, 'zarr')\n",
    "os.makedirs(outdir_zarr, exist_ok=True)\n",
    "\n",
    "### measurements can be downloaded from https://zenodo.org/uploads/15723900\n",
    "indir = os.path.expanduser('~/sc_and_spatial_parkinson/data/')\n",
    "mtx_dir_agarwal = os.path.join(indir, 'Agarwal_NatCommun_2020_32826893/FROM_GEO/ORIGINAL_FILES')\n",
    "h5ad_dir_kamath = os.path.join(indir, 'Kamath_NatNeurosci_2022_35513515/FROM_CELLXGENE/ORIGINAL_FILES')\n",
    "\n",
    "### default parameters\n",
    "default_missing = 'Unknown'"
   ]
  },
  {
   "cell_type": "markdown",
   "id": "9a6dc5a4",
   "metadata": {},
   "source": [
    "## Standardize Agarwal_2020 (from GEO mtx files)"
   ]
  },
  {
   "cell_type": "markdown",
   "id": "5b52886c-e9ab-4ace-a21d-ff7c3f520f51",
   "metadata": {},
   "source": [
    "#### Study parameters"
   ]
  },
  {
   "cell_type": "code",
   "execution_count": 3,
   "id": "ae2a42c1-2675-4192-9d13-d7e2208421fe",
   "metadata": {},
   "outputs": [],
   "source": [
    "sample_names = ['GSM4157067_Sample_5_C3', 'GSM4157068_Sample_6_N3', 'GSM4157069_Sample_7_N4', 'GSM4157070_Sample_8_N5',\n",
    "                'GSM4157071_Sample_9_C1B', 'GSM4157072_Sample_10_N1B', 'GSM4157073_Sample_11_C2B', 'GSM4157074_Sample_12_N2B',\n",
    "                'GSM4157075_Sample_13_C4B', 'GSM4157076_Sample_14_N4B', 'GSM4157077_Sample_15_C5B', 'GSM4157078_Sample_16_N5B',]"
   ]
  },
  {
   "cell_type": "markdown",
   "id": "8a061652-01e3-4eea-9a31-29e9eb44221a",
   "metadata": {},
   "source": [
    "#### Convert each sample mtx into adata and concatenate into study adata"
   ]
  },
  {
   "cell_type": "code",
   "execution_count": 4,
   "id": "0e1276ec-f9ab-4b3d-a12c-b3692b88e591",
   "metadata": {},
   "outputs": [
    {
     "name": "stderr",
     "output_type": "stream",
     "text": [
      "INFO:__main__:***Agarwal_NatCommun_2020_32826893 Convert each sample mtx into adata and concatenate into study adata***\n",
      "INFO:__main__:Load 1/12 GSM4157067_Sample_5_C3 \n",
      "INFO:__main__:Load 2/12 GSM4157068_Sample_6_N3 \n",
      "INFO:__main__:Load 3/12 GSM4157069_Sample_7_N4 \n",
      "INFO:__main__:Load 4/12 GSM4157070_Sample_8_N5 \n",
      "INFO:__main__:Load 5/12 GSM4157071_Sample_9_C1B \n",
      "INFO:__main__:Load 6/12 GSM4157072_Sample_10_N1B \n",
      "INFO:__main__:Load 7/12 GSM4157073_Sample_11_C2B \n",
      "INFO:__main__:Load 8/12 GSM4157074_Sample_12_N2B \n",
      "INFO:__main__:Load 9/12 GSM4157075_Sample_13_C4B \n",
      "INFO:__main__:Load 10/12 GSM4157076_Sample_14_N4B \n",
      "INFO:__main__:Load 11/12 GSM4157077_Sample_15_C5B \n",
      "INFO:__main__:Load 12/12 GSM4157078_Sample_16_N5B \n"
     ]
    }
   ],
   "source": [
    "study_adatas = []\n",
    "counter=0\n",
    "study_name = \"Agarwal_NatCommun_2020_32826893\"\n",
    "logger.info((f\"***{study_name} Convert each sample mtx into adata and concatenate into study adata***\"))\n",
    "\n",
    "for sample_name in sample_names:\n",
    "    counter = counter + 1\n",
    "    logger.info((f\"Load {counter}/{len(sample_names)} {sample_name} \"))\n",
    "    root_fp = os.path.join(mtx_dir_agarwal, sample_name)\n",
    "    matrix_fp = os.path.join(root_fp, \"matrix.mtx.gz\")\n",
    "    barcodes_fp = os.path.join(root_fp, \"barcodes.tsv.gz\")\n",
    "    features_fp = os.path.join(root_fp, \"genes.tsv.gz\")\n",
    "    \n",
    "    matrix = mmread(matrix_fp) ### using scipy.io.mmread because it's faster than sc.read_10x_mtx\n",
    "    barcodes_df = pd.read_csv(barcodes_fp, sep='\\t', names=[\"barcode\"])\n",
    "    features_df = pd.read_csv(features_fp, sep='\\t', usecols=[0, 1], index_col=0, names=[\"index\", \"gene\"])\n",
    "    \n",
    "    sample_adata = convert_mtx_to_adata(\n",
    "        matrix=matrix, barcodes_df=barcodes_df, features_df=features_df,\n",
    "        barcodes_prefix=None\n",
    "    )\n",
    "\n",
    "    # Add fixed metadata\n",
    "    sample_adata.obs.loc[:, 'barcode'] = sample_name + '_' + sample_adata.obs['barcode']\n",
    "    sample_adata.obs.loc[:, 'study_name'] = study_name\n",
    "    sample_adata.obs.loc[:, 'sample_name'] = sample_name\n",
    "    sample_adata.obs.loc[:, 'cell_type']      = default_missing\n",
    "    sample_adata.obs.loc[:, 'cause_of_death'] = default_missing\n",
    "    sample_adata.obs.loc[:, 'main_cell_type'] = default_missing\n",
    "    sample_adata.obs.loc[:, 'Nurr_status']    = default_missing\n",
    "\n",
    "    # Uppercase gene names\n",
    "    sample_adata.var['gene'] = sample_adata.var['gene'].apply(lambda x: x.upper())\n",
    "\n",
    "    # Append to study adata\n",
    "    study_adatas.append(sample_adata)\n",
    "    if len(study_adatas) == 1:\n",
    "        study_adata = study_adatas[0]\n",
    "    else:\n",
    "        study_adata = study_adatas[0].concatenate(study_adatas[1:], join=\"inner\", index_unique=None)"
   ]
  },
  {
   "cell_type": "markdown",
   "id": "48a367de-1e4b-41f7-8f26-b9beb8cb4b99",
   "metadata": {},
   "source": [
    "#### Add sample metadata"
   ]
  },
  {
   "cell_type": "code",
   "execution_count": 5,
   "id": "4866fa3b-c969-415f-b4e6-2f5e2e68990c",
   "metadata": {},
   "outputs": [
    {
     "name": "stderr",
     "output_type": "stream",
     "text": [
      "INFO:__main__:***Add sample metadata***\n",
      "INFO:root:Adding metadata to adata, joining on ['study_name', 'sample_name'], keeping columns ['sample_source', 'sample_organism', 'sample_tissue_region', 'donor_gender', 'donor_age_years', 'cause_of_death', 'main_cell_type', 'cell_type', 'Nurr_status']...\n",
      "INFO:__main__:AnnData object with n_obs × n_vars = 18120 × 33694\n",
      "    obs: 'barcode', 'study_name', 'sample_name', 'sample_source', 'sample_organism', 'sample_tissue_region', 'donor_gender', 'donor_age_years', 'cause_of_death', 'main_cell_type', 'cell_type', 'Nurr_status'\n",
      "    var: 'gene'\n"
     ]
    },
    {
     "name": "stdout",
     "output_type": "stream",
     "text": [
      "<class 'pandas.core.frame.DataFrame'>\n",
      "RangeIndex: 12 entries, 0 to 11\n",
      "Columns: 12 entries, study_name to sample_biomaterial_provider\n",
      "dtypes: object(12)\n",
      "memory usage: 1.3+ KB\n"
     ]
    }
   ],
   "source": [
    "logger.info((f\"***Add sample metadata***\"))\n",
    "input_sm = (f\"https://docs.google.com/spreadsheets/d/{google_id_sample_metadata}/gviz/tq?tqx=out:csv&sheet={study_name}\")\n",
    "study_df = pd.read_csv(io.BytesIO(requests.get(input_sm).content), dtype=str)\n",
    "study_df.info(verbose=False)\n",
    "\n",
    "study_adata = add_metadata_to_adata(\n",
    "    adata=study_adata,\n",
    "    metadata_df=study_df,\n",
    "    join=[\"study_name\", \"sample_name\"],\n",
    "    columns_to_add=extra_sample_metadata_cols,\n",
    ")\n",
    "study_adata.obs = study_adata.obs[default_sample_metadata_cols + extra_sample_metadata_cols]\n",
    "logger.info((study_adata))"
   ]
  },
  {
   "cell_type": "markdown",
   "id": "916ac2ba-a3f9-4c04-9234-197960abb9f6",
   "metadata": {},
   "source": [
    "#### Write standardized files"
   ]
  },
  {
   "cell_type": "code",
   "execution_count": 6,
   "id": "a06934ff-091b-4e3c-8f1f-a658778fd5f0",
   "metadata": {},
   "outputs": [
    {
     "name": "stderr",
     "output_type": "stream",
     "text": [
      "... storing 'study_name' as categorical\n",
      "... storing 'sample_name' as categorical\n",
      "... storing 'sample_source' as categorical\n",
      "... storing 'sample_organism' as categorical\n",
      "... storing 'sample_tissue_region' as categorical\n",
      "... storing 'donor_gender' as categorical\n",
      "... storing 'donor_age_years' as categorical\n",
      "... storing 'cause_of_death' as categorical\n",
      "... storing 'main_cell_type' as categorical\n",
      "... storing 'cell_type' as categorical\n",
      "... storing 'Nurr_status' as categorical\n"
     ]
    }
   ],
   "source": [
    "# Write zarr files\n",
    "out_zarr = os.path.join(outdir_zarr, study_name + \".zarr\")\n",
    "study_adata.write_zarr(store = out_zarr, chunks=[study_adata.shape[0], 5])\n",
    "\n",
    "# Write h5ad file\n",
    "os.makedirs(os.path.join(outdir, 'adata'), exist_ok=True)\n",
    "out_h5ad = os.path.join(outdir, 'adata', study_name + '.h5ad')\n",
    "study_adata.write(out_h5ad, compression='gzip')"
   ]
  },
  {
   "cell_type": "markdown",
   "id": "0e4f5880-1cf8-4058-819c-ffb69e341d5d",
   "metadata": {},
   "source": [
    "## Standardize Kamath_2022 (from CELLxGENE h5ad files)\n",
    "Note: an Upset plot analysis of barcodes across the h5ad files: `~/sc_and_spatial_parkinson/kamath_barcodes/LISTS_AND_COMMANDS/gets_upsetplot.sh` showed that the Nurr-Negative and Nurr-Positive files have barcodes distributed across the remaining files, and hence they weren't processed here."
   ]
  },
  {
   "cell_type": "markdown",
   "id": "0a96d336-b74c-41bd-a7d2-79efbb2cf625",
   "metadata": {},
   "source": [
    "#### Study parameters"
   ]
  },
  {
   "cell_type": "code",
   "execution_count": 7,
   "id": "d226c590-9d54-4e40-b24a-0a099c77720f",
   "metadata": {},
   "outputs": [
    {
     "name": "stdout",
     "output_type": "stream",
     "text": [
      "<class 'pandas.core.frame.DataFrame'>\n",
      "RangeIndex: 9 entries, 0 to 8\n",
      "Columns: 7 entries, cellxgene_dataset_id to Comments\n",
      "dtypes: object(7)\n",
      "memory usage: 636.0+ bytes\n"
     ]
    }
   ],
   "source": [
    "study_name_ids = \"Kamath_NatNeurosci_2022_35513515_CELLxGENE_IDs\"\n",
    "study_name = \"Kamath_NatNeurosci_2022_35513515\"\n",
    "sex_dic = {\n",
    "    'female': 'Female',\n",
    "    'male': 'Male',\n",
    "}\n",
    "exclude_datasets = ['Nurr_negative', 'Nurr_positive']\n",
    "\n",
    "input_sm_ids = (f\"https://docs.google.com/spreadsheets/d/{google_id_sample_metadata}/gviz/tq?tqx=out:csv&sheet={study_name_ids}\")\n",
    "study_df = pd.read_csv(io.BytesIO(requests.get(input_sm_ids).content), dtype=str)\n",
    "study_df.info(verbose=False)\n",
    "\n",
    "indir_orig_h5ad = os.path.expanduser('~/MEASUREMENTS/HUMAN/Kamath_NatNeurosci_2022_35513515/FROM_CELLXGENE/ORIGINAL_FILES/')"
   ]
  },
  {
   "cell_type": "markdown",
   "id": "290fb5b0-4a08-412b-b685-aa7706784931",
   "metadata": {},
   "source": [
    "#### Standardize metadata and downsample barcodes for downstream analysis"
   ]
  },
  {
   "cell_type": "code",
   "execution_count": 8,
   "id": "6c068bba-4753-4db5-bc72-d7d21b205830",
   "metadata": {},
   "outputs": [
    {
     "name": "stderr",
     "output_type": "stream",
     "text": [
      "INFO:__main__:ac189051-14d0-4aae-a181-dbcfef4943f7 Human Oligodendrocytes 10x scRNA-seq\n",
      "INFO:__main__:\n",
      "Human Oligodendrocytes 10x scRNA-seq\n",
      "Before: (178815, 34010)\n",
      "After: (20000, 34010)\n",
      "INFO:__main__:a381924d-10ec-42c9-a8b0-3afd2e753b40 Human Nurr-Negative Nuclei 10x scRNA-seq\n",
      "INFO:__main__:\n",
      "Human Nurr-Negative Nuclei 10x scRNA-seq\n",
      "Before: (104097, 34010)\n",
      "Not downsampled\n",
      "INFO:__main__:f833b909-7acd-4ad6-b02e-c9a132c5829c Human Non-DA Neurons 10x scRNA-seq\n",
      "INFO:__main__:\n",
      "Human Non-DA Neurons 10x scRNA-seq\n",
      "Before: (91479, 34010)\n",
      "After: (20000, 34010)\n",
      "INFO:__main__:f16f0630-2999-476e-909d-4ccddd238385 Human Nurr-Positive Nuclei 10x scRNA-seq\n",
      "INFO:__main__:\n",
      "Human Nurr-Positive Nuclei 10x scRNA-seq\n",
      "Before: (80576, 34010)\n",
      "Not downsampled\n",
      "INFO:__main__:37d5bb98-6565-43a6-9a1a-c95136ca926a Human Astrocytes 10x scRNA-seq\n",
      "INFO:__main__:\n",
      "Human Astrocytes 10x scRNA-seq\n",
      "Before: (33506, 34010)\n",
      "After: (10000, 34010)\n",
      "INFO:__main__:618ed998-f8f4-478c-b209-2f678aea6449 Human Human Microglia 10x scRNA-seq\n",
      "INFO:__main__:\n",
      "Human Human Microglia 10x scRNA-seq\n",
      "Before: (33041, 34010)\n",
      "After: (10000, 34010)\n",
      "INFO:__main__:f71626f3-d4e2-4d1a-98ac-33fc441de762 Human DA Neurons 10x scRNA-seq\n",
      "INFO:__main__:\n",
      "Human DA Neurons 10x scRNA-seq\n",
      "Before: (22048, 34010)\n",
      "After: (20000, 34010)\n",
      "INFO:__main__:368c6c18-a7d9-4054-a6d1-fb70db051485 Human Endothelial cells 10x scRNA-seq\n",
      "INFO:__main__:\n",
      "Human Endothelial cells 10x scRNA-seq\n",
      "Before: (14903, 34010)\n",
      "After: (10000, 34010)\n",
      "INFO:__main__:4cf45092-5f8e-4fc5-b571-ea796518e904 Human OPC Cells 10x scRNA-seq\n",
      "INFO:__main__:\n",
      "Human OPC Cells 10x scRNA-seq\n",
      "Before: (13691, 34010)\n",
      "After: (13691, 34010)\n"
     ]
    }
   ],
   "source": [
    "conc_adatas = []\n",
    "for idx, fields in study_df.iterrows():\n",
    "    cxg_id = fields.iloc[0]\n",
    "    cxg_name = fields.iloc[1]\n",
    "    main_ct  = fields.iloc[2]\n",
    "    downsample_to = int(fields.iloc[5])\n",
    "    logger.info((f\"{cxg_id} {cxg_name}\"))\n",
    "    orig_h5ad = os.path.join(indir_orig_h5ad, cxg_id + '.h5ad')\n",
    "    adata = sc.read_h5ad(orig_h5ad)\n",
    "    if main_ct in exclude_datasets:\n",
    "        if main_ct == \"Nurr_negative\":\n",
    "            Nurr_negative_ls = list(adata.obs.index)\n",
    "        if main_ct == \"Nurr_positive\":\n",
    "            Nurr_positive_ls = list(adata.obs.index)\n",
    "        logger.info((f\"\\n{cxg_name}\\nBefore: {adata.shape}\\nNot downsampled\"))\n",
    "    else:\n",
    "        # Standardize barcode IDs and metadata\n",
    "        adata.obs['barcode'] = adata.obs.index\n",
    "        adata.obs['sample_name'] = adata.obs.index.str.split('_', n=1).str[0]\n",
    "        adata.obs['study_name'] = study_name\n",
    "        adata.obs['donor_age_years'] = adata.obs['development_stage'].str.replace('-year-old stage','')\n",
    "        adata.obs['donor_gender'] = adata.obs.replace({'sex': sex_dic})['sex']\n",
    "        adata.obs['sample_organism'] = adata.obs['organism']\n",
    "        adata.obs['sample_source'] = 'Brain'\n",
    "        adata.obs['sample_tissue_region'] = adata.obs['tissue']\n",
    "        adata.obs['cell_type'] = adata.obs['author_cell_type']\n",
    "        adata.obs['cause_of_death'] = adata.obs['author_Cause_of_Death']\n",
    "        adata.obs['main_cell_type'] = main_ct\n",
    "        \n",
    "        # Downsample barcodes for downstream analysis\n",
    "        adata_sub = sc.pp.sample(adata, axis='obs', n=downsample_to, copy=True, rng=42)\n",
    "        conc_adatas.append(adata_sub)\n",
    "        logger.info((f\"\\n{cxg_name}\\nBefore: {adata.shape}\\nAfter: {adata_sub.shape}\"))"
   ]
  },
  {
   "cell_type": "markdown",
   "id": "8713daa5-1bdc-4e4a-a035-10408907598e",
   "metadata": {},
   "source": [
    "#### Concatenate cell type specific AnnData objects into a single one"
   ]
  },
  {
   "cell_type": "code",
   "execution_count": 9,
   "id": "120566ad-c6e6-4f27-b6a9-50e65aa1b067",
   "metadata": {},
   "outputs": [
    {
     "name": "stderr",
     "output_type": "stream",
     "text": [
      "INFO:__main__:\n",
      "Final: AnnData object with n_obs × n_vars = 103691 × 34010\n",
      "    obs: 'barcode', 'study_name', 'sample_name', 'sample_source', 'sample_organism', 'sample_tissue_region', 'donor_gender', 'donor_age_years', 'cause_of_death', 'main_cell_type', 'cell_type', 'Nurr_status'\n",
      "    var: 'feature_is_filtered', 'feature_name', 'feature_reference', 'feature_biotype', 'feature_length', 'feature_type', 'gene'\n",
      "    obsm: 'X_umap'\n"
     ]
    }
   ],
   "source": [
    "study_adata = conc_adatas[0].concatenate(conc_adatas[1:], join=\"inner\", index_unique=None)\n",
    "Nurr_positive_cells = list(study_adata.obs[study_adata.obs['barcode'].isin(Nurr_positive_ls)].index)\n",
    "Nurr_negative_cells = list(study_adata.obs[study_adata.obs['barcode'].isin(Nurr_negative_ls)].index)\n",
    "study_adata.obs.loc[study_adata.obs.index.isin(Nurr_positive_cells), 'Nurr_status'] = \"pos\"\n",
    "study_adata.obs.loc[study_adata.obs.index.isin(Nurr_negative_cells), 'Nurr_status'] = \"neg\"\n",
    "study_adata.obs['Nurr_status'] = study_adata.obs['Nurr_status'].fillna(default_missing)\n",
    "study_adata.obs = study_adata.obs[default_sample_metadata_cols + extra_sample_metadata_cols]\n",
    "\n",
    "# Uppercase gene names and remove ENSG* code\n",
    "study_adata.var['gene'] = study_adata.var['feature_name'].str.replace(r'_ENSG[0-9]+','',regex=True).apply(lambda x: x.upper())\n",
    "logger.info((f\"\\nFinal: {study_adata}\"))"
   ]
  },
  {
   "cell_type": "markdown",
   "id": "b3749fcb-b9d4-4b37-af79-9bc56fb4e648",
   "metadata": {},
   "source": [
    "#### Write standardized files"
   ]
  },
  {
   "cell_type": "code",
   "execution_count": 10,
   "id": "050f39ab-cdd8-48ca-b20c-2c8263cc71cd",
   "metadata": {},
   "outputs": [
    {
     "name": "stderr",
     "output_type": "stream",
     "text": [
      "... storing 'study_name' as categorical\n",
      "... storing 'sample_name' as categorical\n",
      "... storing 'sample_source' as categorical\n",
      "... storing 'donor_age_years' as categorical\n",
      "... storing 'main_cell_type' as categorical\n",
      "... storing 'Nurr_status' as categorical\n",
      "... storing 'gene' as categorical\n"
     ]
    }
   ],
   "source": [
    "# Write zarr files\n",
    "out_zarr = os.path.join(outdir_zarr, study_name + \".zarr\")\n",
    "study_adata.write_zarr(store = out_zarr, chunks=[study_adata.shape[0], 5])\n",
    "\n",
    "# Write h5ad file\n",
    "os.makedirs(os.path.join(outdir, 'adata'), exist_ok=True)\n",
    "out_h5ad = os.path.join(outdir, 'adata', study_name + '.h5ad')\n",
    "study_adata.write(out_h5ad, compression='gzip')"
   ]
  },
  {
   "cell_type": "markdown",
   "id": "a331ebea-ffb7-49d4-bff8-14408653f74a",
   "metadata": {},
   "source": [
    "## Evaluate gene ID overlap between studies"
   ]
  },
  {
   "cell_type": "code",
   "execution_count": 11,
   "id": "a4c927cd-df20-487f-b3ba-b05c4cc02e16",
   "metadata": {},
   "outputs": [
    {
     "name": "stderr",
     "output_type": "stream",
     "text": [
      "INFO:__main__:Read: Agarwal_NatCommun_2020_32826893\n",
      "INFO:__main__:Read: AnnData object with n_obs × n_vars = 18120 × 33694\n",
      "    obs: 'barcode', 'study_name', 'sample_name', 'sample_source', 'sample_organism', 'sample_tissue_region', 'donor_gender', 'donor_age_years', 'cause_of_death', 'main_cell_type', 'cell_type', 'Nurr_status'\n",
      "    var: 'gene'\n",
      "INFO:__main__:Read: Kamath_NatNeurosci_2022_35513515\n",
      "INFO:__main__:Read: AnnData object with n_obs × n_vars = 103691 × 34010\n",
      "    obs: 'barcode', 'study_name', 'sample_name', 'sample_source', 'sample_organism', 'sample_tissue_region', 'donor_gender', 'donor_age_years', 'cause_of_death', 'main_cell_type', 'cell_type', 'Nurr_status'\n",
      "    var: 'feature_is_filtered', 'feature_name', 'feature_reference', 'feature_biotype', 'feature_length', 'feature_type', 'gene'\n",
      "    obsm: 'X_umap'\n",
      "INFO:__main__:Concatenated: AnnData object with n_obs × n_vars = 121811 × 29546\n",
      "    obs: 'barcode', 'study_name', 'sample_name', 'sample_source', 'sample_organism', 'sample_tissue_region', 'donor_gender', 'donor_age_years', 'cause_of_death', 'main_cell_type', 'cell_type', 'Nurr_status', 'batch'\n",
      "    var: 'gene-0', 'gene-1', 'feature_is_filtered-1', 'feature_name-1', 'feature_reference-1', 'feature_biotype-1', 'feature_length-1', 'feature_type-1'\n"
     ]
    }
   ],
   "source": [
    "study_names = ['Agarwal_NatCommun_2020_32826893','Kamath_NatNeurosci_2022_35513515']\n",
    "conc_adatas = []\n",
    "for study_name in study_names:\n",
    "    logger.info((f\"Read: {study_name}\"))\n",
    "    adata = convert_zarr_to_adata(os.path.join(outdir_zarr, study_name + '.zarr'))\n",
    "    logger.info((f\"Read: {adata}\"))\n",
    "    conc_adatas.append(adata)\n",
    "adata = conc_adatas[0].concatenate(conc_adatas[1:], join=\"inner\", index_unique=None)\n",
    "logger.info((f\"Concatenated: {adata}\"))"
   ]
  },
  {
   "cell_type": "markdown",
   "id": "80b3ba51-691a-4179-881d-50fd1e132cb5",
   "metadata": {},
   "source": [
    "##### Note, the vast majority of differences in gene ID's between the  two studies are lncRNA (9,274 out of 10,448). 1,057 protein_coding ID's would need to be mapped using aliases (not done here)"
   ]
  },
  {
   "cell_type": "code",
   "execution_count": 12,
   "id": "ec420b03-699e-4463-9a5d-bd55e838404f",
   "metadata": {},
   "outputs": [
    {
     "data": {
      "text/plain": [
       "feature_type-1\n",
       "protein_coding                        17819\n",
       "lncRNA                                11197\n",
       "IG_V_pseudogene                         103\n",
       "IG_V_gene                                88\n",
       "transcribed_unprocessed_pseudogene       85\n",
       "TR_J_gene                                63\n",
       "TR_V_gene                                58\n",
       "transcribed_unitary_pseudogene           45\n",
       "transcribed_processed_pseudogene         21\n",
       "TR_V_pseudogene                          20\n",
       "IG_J_gene                                12\n",
       "IG_C_pseudogene                           6\n",
       "IG_D_gene                                 6\n",
       "IG_C_gene                                 5\n",
       "TR_J_pseudogene                           4\n",
       "unprocessed_pseudogene                    4\n",
       "TR_C_gene                                 3\n",
       "TR_D_gene                                 3\n",
       "processed_pseudogene                      2\n",
       "TEC                                       1\n",
       "scRNA                                     1\n",
       "Name: count, dtype: int64"
      ]
     },
     "execution_count": 12,
     "metadata": {},
     "output_type": "execute_result"
    }
   ],
   "source": [
    "# All types of features\n",
    "counts = adata.var['feature_type-1'].value_counts(dropna=False)\n",
    "counts[counts > 0]"
   ]
  },
  {
   "cell_type": "code",
   "execution_count": 14,
   "id": "3a4e3408-ae4c-4927-b768-74045617f3d5",
   "metadata": {},
   "outputs": [
    {
     "data": {
      "text/plain": [
       "feature_type-1\n",
       "lncRNA                                9274\n",
       "protein_coding                        1057\n",
       "transcribed_unprocessed_pseudogene      60\n",
       "transcribed_unitary_pseudogene          39\n",
       "transcribed_processed_pseudogene        13\n",
       "unprocessed_pseudogene                   2\n",
       "processed_pseudogene                     2\n",
       "TEC                                      1\n",
       "Name: count, dtype: int64"
      ]
     },
     "execution_count": 14,
     "metadata": {},
     "output_type": "execute_result"
    }
   ],
   "source": [
    "# Features with different gene names (unmapped) between studies\n",
    "counts = adata.var[adata.var['gene-0'] != adata.var['gene-1']]['feature_type-1'].value_counts(dropna=False)\n",
    "counts[counts > 0]"
   ]
  },
  {
   "cell_type": "markdown",
   "id": "ec2e7205-b694-4d4c-90d5-05ff82c3e7ab",
   "metadata": {},
   "source": [
    "## End of script"
   ]
  }
 ],
 "metadata": {
  "kernelspec": {
   "display_name": "venv_bioinfo",
   "language": "python",
   "name": "venv_bioinfo"
  },
  "language_info": {
   "codemirror_mode": {
    "name": "ipython",
    "version": 3
   },
   "file_extension": ".py",
   "mimetype": "text/x-python",
   "name": "python",
   "nbconvert_exporter": "python",
   "pygments_lexer": "ipython3",
   "version": "3.13.2"
  },
  "vscode": {
   "interpreter": {
    "hash": "e7370f93d1d0cde622a1f8e1c04877d8463912d04d973331ad4851f04de6915a"
   }
  }
 },
 "nbformat": 4,
 "nbformat_minor": 5
}
